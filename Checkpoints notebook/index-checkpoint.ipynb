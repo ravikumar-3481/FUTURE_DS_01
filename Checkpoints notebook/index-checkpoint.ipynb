{
 "cells": [
  {
   "cell_type": "markdown",
   "id": "0e404cd1-9745-4cd7-a428-256b2feddca9",
   "metadata": {},
   "source": [
    "# Data Science & Analytics Task 1\n",
    "By Future Interns\n",
    "📊 Business Sales Dashboard from E-commerce Data\n",
    "\n",
    "🔍 About the Task\n",
    "In this real-world internship task, you’ll work with e-commerce sales data to build a professional, interactive dashboard. The goal is to help business owners and decision-makers understand:\n",
    "\n",
    "- What are the best-selling products?\n",
    "- When do sales peak during the year?\n",
    "- Which categories or regions bring the most revenue?\n",
    "\n",
    "\n",
    "✅ What You’ll Do\n",
    "Clean and organize raw sales data (Excel/CSV format).\n",
    "Analyze patterns like monthly sales trends, category-wise performance, and customer behavior.\n",
    "Build a visually appealing Power BI dashboard with filters and charts.\n",
    "Present insights and recommendations as if you were helping a real business.\n",
    "🎯 Skills You’ll Gain\n",
    "💡 Data cleaning & transformation\n",
    "📆 Time series trend analysis\n",
    "📊 DAX (Data Analysis Expressions) for creating KPIs\n",
    "📈 Business storytelling with visuals\n",
    "📥 Importing & handling Excel/CSV datasets\n",
    "🛠️ Tools You’ll Use\n",
    "Power BI Desktop – Download here (Free)\n",
    "Microsoft Excel – Basic data exploration and formatting\n",
    "Optional: SQL – If you want to take your data preprocessing to the next level\n",
    "📁 Sample Datasets (Choose any one to start)\n",
    "These are free datasets – no sign-in required:\n",
    "\n"
   ]
  },
  {
   "cell_type": "code",
   "execution_count": 1,
   "id": "4bd6ee59-987a-4f6f-a108-42c1e6b0e8ee",
   "metadata": {},
   "outputs": [],
   "source": [
    "# !pip install --upgrade xlrd\n"
   ]
  },
  {
   "cell_type": "markdown",
   "id": "a9719dc2-4983-4532-8b9e-ea56881f4ee4",
   "metadata": {},
   "source": [
    "# Import libraries"
   ]
  },
  {
   "cell_type": "code",
   "execution_count": 2,
   "id": "734620d3",
   "metadata": {},
   "outputs": [],
   "source": [
    "import pandas as pd"
   ]
  },
  {
   "cell_type": "code",
   "execution_count": 3,
   "id": "74b55e97",
   "metadata": {},
   "outputs": [
    {
     "data": {
      "text/html": [
       "<div>\n",
       "<style scoped>\n",
       "    .dataframe tbody tr th:only-of-type {\n",
       "        vertical-align: middle;\n",
       "    }\n",
       "\n",
       "    .dataframe tbody tr th {\n",
       "        vertical-align: top;\n",
       "    }\n",
       "\n",
       "    .dataframe thead th {\n",
       "        text-align: right;\n",
       "    }\n",
       "</style>\n",
       "<table border=\"1\" class=\"dataframe\">\n",
       "  <thead>\n",
       "    <tr style=\"text-align: right;\">\n",
       "      <th></th>\n",
       "      <th>Row ID</th>\n",
       "      <th>Order ID</th>\n",
       "      <th>Order Date</th>\n",
       "      <th>Ship Date</th>\n",
       "      <th>Ship Mode</th>\n",
       "      <th>Customer ID</th>\n",
       "      <th>Customer Name</th>\n",
       "      <th>Segment</th>\n",
       "      <th>Country</th>\n",
       "      <th>City</th>\n",
       "      <th>...</th>\n",
       "      <th>Postal Code</th>\n",
       "      <th>Region</th>\n",
       "      <th>Product ID</th>\n",
       "      <th>Category</th>\n",
       "      <th>Sub-Category</th>\n",
       "      <th>Product Name</th>\n",
       "      <th>Sales</th>\n",
       "      <th>Quantity</th>\n",
       "      <th>Discount</th>\n",
       "      <th>Profit</th>\n",
       "    </tr>\n",
       "  </thead>\n",
       "  <tbody>\n",
       "    <tr>\n",
       "      <th>0</th>\n",
       "      <td>1</td>\n",
       "      <td>CA-2013-152156</td>\n",
       "      <td>2013-11-09</td>\n",
       "      <td>2013-11-12</td>\n",
       "      <td>Second Class</td>\n",
       "      <td>CG-12520</td>\n",
       "      <td>Claire Gute</td>\n",
       "      <td>Consumer</td>\n",
       "      <td>United States</td>\n",
       "      <td>Henderson</td>\n",
       "      <td>...</td>\n",
       "      <td>42420</td>\n",
       "      <td>South</td>\n",
       "      <td>FUR-BO-10001798</td>\n",
       "      <td>Furniture</td>\n",
       "      <td>Bookcases</td>\n",
       "      <td>Bush Somerset Collection Bookcase</td>\n",
       "      <td>261.9600</td>\n",
       "      <td>2</td>\n",
       "      <td>0.00</td>\n",
       "      <td>41.9136</td>\n",
       "    </tr>\n",
       "    <tr>\n",
       "      <th>1</th>\n",
       "      <td>2</td>\n",
       "      <td>CA-2013-152156</td>\n",
       "      <td>2013-11-09</td>\n",
       "      <td>2013-11-12</td>\n",
       "      <td>Second Class</td>\n",
       "      <td>CG-12520</td>\n",
       "      <td>Claire Gute</td>\n",
       "      <td>Consumer</td>\n",
       "      <td>United States</td>\n",
       "      <td>Henderson</td>\n",
       "      <td>...</td>\n",
       "      <td>42420</td>\n",
       "      <td>South</td>\n",
       "      <td>FUR-CH-10000454</td>\n",
       "      <td>Furniture</td>\n",
       "      <td>Chairs</td>\n",
       "      <td>Hon Deluxe Fabric Upholstered Stacking Chairs,...</td>\n",
       "      <td>731.9400</td>\n",
       "      <td>3</td>\n",
       "      <td>0.00</td>\n",
       "      <td>219.5820</td>\n",
       "    </tr>\n",
       "    <tr>\n",
       "      <th>2</th>\n",
       "      <td>3</td>\n",
       "      <td>CA-2013-138688</td>\n",
       "      <td>2013-06-13</td>\n",
       "      <td>2013-06-17</td>\n",
       "      <td>Second Class</td>\n",
       "      <td>DV-13045</td>\n",
       "      <td>Darrin Van Huff</td>\n",
       "      <td>Corporate</td>\n",
       "      <td>United States</td>\n",
       "      <td>Los Angeles</td>\n",
       "      <td>...</td>\n",
       "      <td>90036</td>\n",
       "      <td>West</td>\n",
       "      <td>OFF-LA-10000240</td>\n",
       "      <td>Office Supplies</td>\n",
       "      <td>Labels</td>\n",
       "      <td>Self-Adhesive Address Labels for Typewriters b...</td>\n",
       "      <td>14.6200</td>\n",
       "      <td>2</td>\n",
       "      <td>0.00</td>\n",
       "      <td>6.8714</td>\n",
       "    </tr>\n",
       "    <tr>\n",
       "      <th>3</th>\n",
       "      <td>4</td>\n",
       "      <td>US-2012-108966</td>\n",
       "      <td>2012-10-11</td>\n",
       "      <td>2012-10-18</td>\n",
       "      <td>Standard Class</td>\n",
       "      <td>SO-20335</td>\n",
       "      <td>Sean O'Donnell</td>\n",
       "      <td>Consumer</td>\n",
       "      <td>United States</td>\n",
       "      <td>Fort Lauderdale</td>\n",
       "      <td>...</td>\n",
       "      <td>33311</td>\n",
       "      <td>South</td>\n",
       "      <td>FUR-TA-10000577</td>\n",
       "      <td>Furniture</td>\n",
       "      <td>Tables</td>\n",
       "      <td>Bretford CR4500 Series Slim Rectangular Table</td>\n",
       "      <td>957.5775</td>\n",
       "      <td>5</td>\n",
       "      <td>0.45</td>\n",
       "      <td>-383.0310</td>\n",
       "    </tr>\n",
       "    <tr>\n",
       "      <th>4</th>\n",
       "      <td>5</td>\n",
       "      <td>US-2012-108966</td>\n",
       "      <td>2012-10-11</td>\n",
       "      <td>2012-10-18</td>\n",
       "      <td>Standard Class</td>\n",
       "      <td>SO-20335</td>\n",
       "      <td>Sean O'Donnell</td>\n",
       "      <td>Consumer</td>\n",
       "      <td>United States</td>\n",
       "      <td>Fort Lauderdale</td>\n",
       "      <td>...</td>\n",
       "      <td>33311</td>\n",
       "      <td>South</td>\n",
       "      <td>OFF-ST-10000760</td>\n",
       "      <td>Office Supplies</td>\n",
       "      <td>Storage</td>\n",
       "      <td>Eldon Fold 'N Roll Cart System</td>\n",
       "      <td>22.3680</td>\n",
       "      <td>2</td>\n",
       "      <td>0.20</td>\n",
       "      <td>2.5164</td>\n",
       "    </tr>\n",
       "  </tbody>\n",
       "</table>\n",
       "<p>5 rows × 21 columns</p>\n",
       "</div>"
      ],
      "text/plain": [
       "   Row ID        Order ID Order Date  Ship Date       Ship Mode Customer ID  \\\n",
       "0       1  CA-2013-152156 2013-11-09 2013-11-12    Second Class    CG-12520   \n",
       "1       2  CA-2013-152156 2013-11-09 2013-11-12    Second Class    CG-12520   \n",
       "2       3  CA-2013-138688 2013-06-13 2013-06-17    Second Class    DV-13045   \n",
       "3       4  US-2012-108966 2012-10-11 2012-10-18  Standard Class    SO-20335   \n",
       "4       5  US-2012-108966 2012-10-11 2012-10-18  Standard Class    SO-20335   \n",
       "\n",
       "     Customer Name    Segment        Country             City  ...  \\\n",
       "0      Claire Gute   Consumer  United States        Henderson  ...   \n",
       "1      Claire Gute   Consumer  United States        Henderson  ...   \n",
       "2  Darrin Van Huff  Corporate  United States      Los Angeles  ...   \n",
       "3   Sean O'Donnell   Consumer  United States  Fort Lauderdale  ...   \n",
       "4   Sean O'Donnell   Consumer  United States  Fort Lauderdale  ...   \n",
       "\n",
       "  Postal Code  Region       Product ID         Category Sub-Category  \\\n",
       "0       42420   South  FUR-BO-10001798        Furniture    Bookcases   \n",
       "1       42420   South  FUR-CH-10000454        Furniture       Chairs   \n",
       "2       90036    West  OFF-LA-10000240  Office Supplies       Labels   \n",
       "3       33311   South  FUR-TA-10000577        Furniture       Tables   \n",
       "4       33311   South  OFF-ST-10000760  Office Supplies      Storage   \n",
       "\n",
       "                                        Product Name     Sales  Quantity  \\\n",
       "0                  Bush Somerset Collection Bookcase  261.9600         2   \n",
       "1  Hon Deluxe Fabric Upholstered Stacking Chairs,...  731.9400         3   \n",
       "2  Self-Adhesive Address Labels for Typewriters b...   14.6200         2   \n",
       "3      Bretford CR4500 Series Slim Rectangular Table  957.5775         5   \n",
       "4                     Eldon Fold 'N Roll Cart System   22.3680         2   \n",
       "\n",
       "   Discount    Profit  \n",
       "0      0.00   41.9136  \n",
       "1      0.00  219.5820  \n",
       "2      0.00    6.8714  \n",
       "3      0.45 -383.0310  \n",
       "4      0.20    2.5164  \n",
       "\n",
       "[5 rows x 21 columns]"
      ]
     },
     "execution_count": 3,
     "metadata": {},
     "output_type": "execute_result"
    }
   ],
   "source": [
    "df = pd.read_excel(\"superstore.xls\")\n",
    "df.head()"
   ]
  },
  {
   "cell_type": "markdown",
   "id": "449de979-a625-4154-a5ce-a6fb40e8dc44",
   "metadata": {},
   "source": [
    "# Metadata"
   ]
  },
  {
   "cell_type": "code",
   "execution_count": 4,
   "id": "6ca1f46b-339c-4d54-9226-4b74aa4b4ad1",
   "metadata": {},
   "outputs": [
    {
     "name": "stdout",
     "output_type": "stream",
     "text": [
      "<class 'pandas.core.frame.DataFrame'>\n",
      "RangeIndex: 9994 entries, 0 to 9993\n",
      "Data columns (total 21 columns):\n",
      " #   Column         Non-Null Count  Dtype         \n",
      "---  ------         --------------  -----         \n",
      " 0   Row ID         9994 non-null   int64         \n",
      " 1   Order ID       9994 non-null   object        \n",
      " 2   Order Date     9994 non-null   datetime64[ns]\n",
      " 3   Ship Date      9994 non-null   datetime64[ns]\n",
      " 4   Ship Mode      9994 non-null   object        \n",
      " 5   Customer ID    9994 non-null   object        \n",
      " 6   Customer Name  9994 non-null   object        \n",
      " 7   Segment        9994 non-null   object        \n",
      " 8   Country        9994 non-null   object        \n",
      " 9   City           9994 non-null   object        \n",
      " 10  State          9994 non-null   object        \n",
      " 11  Postal Code    9994 non-null   int64         \n",
      " 12  Region         9994 non-null   object        \n",
      " 13  Product ID     9994 non-null   object        \n",
      " 14  Category       9994 non-null   object        \n",
      " 15  Sub-Category   9994 non-null   object        \n",
      " 16  Product Name   9994 non-null   object        \n",
      " 17  Sales          9994 non-null   float64       \n",
      " 18  Quantity       9994 non-null   int64         \n",
      " 19  Discount       9994 non-null   float64       \n",
      " 20  Profit         9994 non-null   float64       \n",
      "dtypes: datetime64[ns](2), float64(3), int64(3), object(13)\n",
      "memory usage: 1.6+ MB\n"
     ]
    }
   ],
   "source": [
    "df.info()"
   ]
  },
  {
   "cell_type": "code",
   "execution_count": 30,
   "id": "ee325e61-516f-4056-8ae3-41f5d370e1a1",
   "metadata": {},
   "outputs": [
    {
     "data": {
      "text/html": [
       "<div>\n",
       "<style scoped>\n",
       "    .dataframe tbody tr th:only-of-type {\n",
       "        vertical-align: middle;\n",
       "    }\n",
       "\n",
       "    .dataframe tbody tr th {\n",
       "        vertical-align: top;\n",
       "    }\n",
       "\n",
       "    .dataframe thead th {\n",
       "        text-align: right;\n",
       "    }\n",
       "</style>\n",
       "<table border=\"1\" class=\"dataframe\">\n",
       "  <thead>\n",
       "    <tr style=\"text-align: right;\">\n",
       "      <th></th>\n",
       "      <th>Row ID</th>\n",
       "      <th>Order Date</th>\n",
       "      <th>Ship Date</th>\n",
       "      <th>Postal Code</th>\n",
       "      <th>Sales</th>\n",
       "      <th>Quantity</th>\n",
       "      <th>Discount</th>\n",
       "      <th>Profit</th>\n",
       "      <th>Month</th>\n",
       "    </tr>\n",
       "  </thead>\n",
       "  <tbody>\n",
       "    <tr>\n",
       "      <th>count</th>\n",
       "      <td>9994.000000</td>\n",
       "      <td>9994</td>\n",
       "      <td>9994</td>\n",
       "      <td>9994.000000</td>\n",
       "      <td>9994.000000</td>\n",
       "      <td>9994.000000</td>\n",
       "      <td>9994.000000</td>\n",
       "      <td>9994.000000</td>\n",
       "      <td>9994.000000</td>\n",
       "    </tr>\n",
       "    <tr>\n",
       "      <th>mean</th>\n",
       "      <td>4997.500000</td>\n",
       "      <td>2013-04-30 19:20:02.401441024</td>\n",
       "      <td>2013-05-04 18:20:49.229537792</td>\n",
       "      <td>55190.379428</td>\n",
       "      <td>229.858001</td>\n",
       "      <td>3.789574</td>\n",
       "      <td>0.156203</td>\n",
       "      <td>28.656896</td>\n",
       "      <td>7.814589</td>\n",
       "    </tr>\n",
       "    <tr>\n",
       "      <th>min</th>\n",
       "      <td>1.000000</td>\n",
       "      <td>2011-01-04 00:00:00</td>\n",
       "      <td>2011-01-08 00:00:00</td>\n",
       "      <td>1040.000000</td>\n",
       "      <td>0.444000</td>\n",
       "      <td>1.000000</td>\n",
       "      <td>0.000000</td>\n",
       "      <td>-6599.978000</td>\n",
       "      <td>1.000000</td>\n",
       "    </tr>\n",
       "    <tr>\n",
       "      <th>25%</th>\n",
       "      <td>2499.250000</td>\n",
       "      <td>2012-05-23 00:00:00</td>\n",
       "      <td>2012-05-27 00:00:00</td>\n",
       "      <td>23223.000000</td>\n",
       "      <td>17.280000</td>\n",
       "      <td>2.000000</td>\n",
       "      <td>0.000000</td>\n",
       "      <td>1.728750</td>\n",
       "      <td>5.000000</td>\n",
       "    </tr>\n",
       "    <tr>\n",
       "      <th>50%</th>\n",
       "      <td>4997.500000</td>\n",
       "      <td>2013-06-27 00:00:00</td>\n",
       "      <td>2013-06-30 00:00:00</td>\n",
       "      <td>56430.500000</td>\n",
       "      <td>54.490000</td>\n",
       "      <td>3.000000</td>\n",
       "      <td>0.200000</td>\n",
       "      <td>8.666500</td>\n",
       "      <td>9.000000</td>\n",
       "    </tr>\n",
       "    <tr>\n",
       "      <th>75%</th>\n",
       "      <td>7495.750000</td>\n",
       "      <td>2014-05-15 00:00:00</td>\n",
       "      <td>2014-05-19 00:00:00</td>\n",
       "      <td>90008.000000</td>\n",
       "      <td>209.940000</td>\n",
       "      <td>5.000000</td>\n",
       "      <td>0.200000</td>\n",
       "      <td>29.364000</td>\n",
       "      <td>11.000000</td>\n",
       "    </tr>\n",
       "    <tr>\n",
       "      <th>max</th>\n",
       "      <td>9994.000000</td>\n",
       "      <td>2014-12-31 00:00:00</td>\n",
       "      <td>2015-01-06 00:00:00</td>\n",
       "      <td>99301.000000</td>\n",
       "      <td>22638.480000</td>\n",
       "      <td>14.000000</td>\n",
       "      <td>0.800000</td>\n",
       "      <td>8399.976000</td>\n",
       "      <td>12.000000</td>\n",
       "    </tr>\n",
       "    <tr>\n",
       "      <th>std</th>\n",
       "      <td>2885.163629</td>\n",
       "      <td>NaN</td>\n",
       "      <td>NaN</td>\n",
       "      <td>32063.693350</td>\n",
       "      <td>623.245101</td>\n",
       "      <td>2.225110</td>\n",
       "      <td>0.206452</td>\n",
       "      <td>234.260108</td>\n",
       "      <td>3.286047</td>\n",
       "    </tr>\n",
       "  </tbody>\n",
       "</table>\n",
       "</div>"
      ],
      "text/plain": [
       "            Row ID                     Order Date  \\\n",
       "count  9994.000000                           9994   \n",
       "mean   4997.500000  2013-04-30 19:20:02.401441024   \n",
       "min       1.000000            2011-01-04 00:00:00   \n",
       "25%    2499.250000            2012-05-23 00:00:00   \n",
       "50%    4997.500000            2013-06-27 00:00:00   \n",
       "75%    7495.750000            2014-05-15 00:00:00   \n",
       "max    9994.000000            2014-12-31 00:00:00   \n",
       "std    2885.163629                            NaN   \n",
       "\n",
       "                           Ship Date   Postal Code         Sales     Quantity  \\\n",
       "count                           9994   9994.000000   9994.000000  9994.000000   \n",
       "mean   2013-05-04 18:20:49.229537792  55190.379428    229.858001     3.789574   \n",
       "min              2011-01-08 00:00:00   1040.000000      0.444000     1.000000   \n",
       "25%              2012-05-27 00:00:00  23223.000000     17.280000     2.000000   \n",
       "50%              2013-06-30 00:00:00  56430.500000     54.490000     3.000000   \n",
       "75%              2014-05-19 00:00:00  90008.000000    209.940000     5.000000   \n",
       "max              2015-01-06 00:00:00  99301.000000  22638.480000    14.000000   \n",
       "std                              NaN  32063.693350    623.245101     2.225110   \n",
       "\n",
       "          Discount       Profit        Month  \n",
       "count  9994.000000  9994.000000  9994.000000  \n",
       "mean      0.156203    28.656896     7.814589  \n",
       "min       0.000000 -6599.978000     1.000000  \n",
       "25%       0.000000     1.728750     5.000000  \n",
       "50%       0.200000     8.666500     9.000000  \n",
       "75%       0.200000    29.364000    11.000000  \n",
       "max       0.800000  8399.976000    12.000000  \n",
       "std       0.206452   234.260108     3.286047  "
      ]
     },
     "execution_count": 30,
     "metadata": {},
     "output_type": "execute_result"
    }
   ],
   "source": [
    "df.describe()\n"
   ]
  },
  {
   "cell_type": "markdown",
   "id": "46da2fe8-87bb-4ca6-b578-ee2b14e3d873",
   "metadata": {},
   "source": [
    "# Check missing values"
   ]
  },
  {
   "cell_type": "code",
   "execution_count": 5,
   "id": "14072d63-3f6c-46bd-bfc8-cd9c2a088ee7",
   "metadata": {},
   "outputs": [
    {
     "data": {
      "text/plain": [
       "Row ID           0\n",
       "Order ID         0\n",
       "Order Date       0\n",
       "Ship Date        0\n",
       "Ship Mode        0\n",
       "Customer ID      0\n",
       "Customer Name    0\n",
       "Segment          0\n",
       "Country          0\n",
       "City             0\n",
       "State            0\n",
       "Postal Code      0\n",
       "Region           0\n",
       "Product ID       0\n",
       "Category         0\n",
       "Sub-Category     0\n",
       "Product Name     0\n",
       "Sales            0\n",
       "Quantity         0\n",
       "Discount         0\n",
       "Profit           0\n",
       "dtype: int64"
      ]
     },
     "execution_count": 5,
     "metadata": {},
     "output_type": "execute_result"
    }
   ],
   "source": [
    "df.isna().sum()"
   ]
  },
  {
   "cell_type": "markdown",
   "id": "a82499ec-5378-4a9f-8bec-e7a0aa26085e",
   "metadata": {},
   "source": [
    "# Check duplicates"
   ]
  },
  {
   "cell_type": "code",
   "execution_count": 6,
   "id": "0577f7db-4d6c-4d44-bdac-b24276487c5d",
   "metadata": {},
   "outputs": [
    {
     "data": {
      "text/plain": [
       "False    9994\n",
       "Name: count, dtype: int64"
      ]
     },
     "execution_count": 6,
     "metadata": {},
     "output_type": "execute_result"
    }
   ],
   "source": [
    "df.duplicated().value_counts()"
   ]
  },
  {
   "cell_type": "markdown",
   "id": "7f7f4324-0bc8-471a-89b0-05643fdccd6e",
   "metadata": {},
   "source": [
    "### The dataset has no missing values and no duplicates"
   ]
  },
  {
   "cell_type": "markdown",
   "id": "5668baca-36f5-47a4-b71e-1c2db0e632f8",
   "metadata": {},
   "source": [
    "# Check Outliers"
   ]
  },
  {
   "cell_type": "code",
   "execution_count": 36,
   "id": "1487c381-148c-4c15-a22d-b6ed1d776487",
   "metadata": {},
   "outputs": [
    {
     "data": {
      "image/png": "[encoded data removed]",
      "text/plain": [
       "<Figure size 864x1080 with 6 Axes>"
      ]
     },
     "metadata": {
      "needs_background": "light"
     },
     "output_type": "display_data"
    }
   ],
   "source": [
    "import math\n",
    "\n",
    "numeric_cols = df.select_dtypes(include=['float64','int64']).columns\n",
    "\n",
    "n = len(numeric_cols)               # number of numeric columns\n",
    "rows = math.ceil(n/2)               # number of rows (2 plots per row)\n",
    "\n",
    "plt.figure(figsize=(12, 5*rows))\n",
    "for i, col in enumerate(numeric_cols, 1):\n",
    "    plt.subplot(rows, 2, i)         # flexible grid\n",
    "    sns.boxplot(y=df[col])\n",
    "    plt.title(f\"Outliers in {col}\")\n",
    "plt.tight_layout()\n",
    "plt.show()\n",
    "\n"
   ]
  },
  {
   "cell_type": "code",
   "execution_count": null,
   "id": "7bc82702-b2fc-4669-a8cb-dafa8ed6995e",
   "metadata": {},
   "outputs": [],
   "source": []
  },
  {
   "cell_type": "code",
   "execution_count": null,
   "id": "3d5973dd-b124-4497-90ad-a4eecd3aefd0",
   "metadata": {},
   "outputs": [],
   "source": []
  },
  {
   "cell_type": "code",
   "execution_count": null,
   "id": "829047f7-c68b-4d70-b6d1-3a9487abc6c1",
   "metadata": {},
   "outputs": [],
   "source": []
  },
  {
   "cell_type": "code",
   "execution_count": 7,
   "id": "378de6eb-ed6c-49b1-a33c-86b376cfe1f5",
   "metadata": {},
   "outputs": [
    {
     "data": {
      "text/plain": [
       "0       FUR-BO-10001798\n",
       "1       FUR-CH-10000454\n",
       "2       OFF-LA-10000240\n",
       "3       FUR-TA-10000577\n",
       "4       OFF-ST-10000760\n",
       "             ...       \n",
       "9989    FUR-FU-10001889\n",
       "9990    FUR-FU-10000747\n",
       "9991    TEC-PH-10003645\n",
       "9992    OFF-PA-10004041\n",
       "9993    OFF-AP-10002684\n",
       "Name: Product ID, Length: 9994, dtype: object"
      ]
     },
     "execution_count": 7,
     "metadata": {},
     "output_type": "execute_result"
    }
   ],
   "source": [
    "df['Product ID']"
   ]
  },
  {
   "cell_type": "code",
   "execution_count": 8,
   "id": "1ce491de-4c29-4016-9a12-5bbc92b5fa44",
   "metadata": {},
   "outputs": [
    {
     "data": {
      "text/plain": [
       "0                       Bush Somerset Collection Bookcase\n",
       "1       Hon Deluxe Fabric Upholstered Stacking Chairs,...\n",
       "2       Self-Adhesive Address Labels for Typewriters b...\n",
       "3           Bretford CR4500 Series Slim Rectangular Table\n",
       "4                          Eldon Fold 'N Roll Cart System\n",
       "                              ...                        \n",
       "9989                               Ultra Door Pull Handle\n",
       "9990    Tenex B1-RE Series Chair Mats for Low Pile Car...\n",
       "9991                                Aastra 57i VoIP phone\n",
       "9992    It's Hot Message Books with Stickers, 2 3/4\" x 5\"\n",
       "9993    Acco 7-Outlet Masterpiece Power Center, Wihtou...\n",
       "Name: Product Name, Length: 9994, dtype: object"
      ]
     },
     "execution_count": 8,
     "metadata": {},
     "output_type": "execute_result"
    }
   ],
   "source": [
    "df['Product Name']"
   ]
  },
  {
   "cell_type": "markdown",
   "id": "edbcceac-f997-4515-b6fe-5fed01016821",
   "metadata": {},
   "source": [
    "# BEST SELLING PRODUCT"
   ]
  },
  {
   "cell_type": "code",
   "execution_count": 14,
   "id": "4959b23f-5f8d-4caf-bcd3-014a187166d7",
   "metadata": {},
   "outputs": [
    {
     "data": {
      "text/html": [
       "<div>\n",
       "<style scoped>\n",
       "    .dataframe tbody tr th:only-of-type {\n",
       "        vertical-align: middle;\n",
       "    }\n",
       "\n",
       "    .dataframe tbody tr th {\n",
       "        vertical-align: top;\n",
       "    }\n",
       "\n",
       "    .dataframe thead th {\n",
       "        text-align: right;\n",
       "    }\n",
       "</style>\n",
       "<table border=\"1\" class=\"dataframe\">\n",
       "  <thead>\n",
       "    <tr style=\"text-align: right;\">\n",
       "      <th></th>\n",
       "      <th>Product Name</th>\n",
       "      <th>Sales</th>\n",
       "    </tr>\n",
       "  </thead>\n",
       "  <tbody>\n",
       "    <tr>\n",
       "      <th>0</th>\n",
       "      <td>\"While you Were Out\" Message Book, One Form pe...</td>\n",
       "      <td>25.228</td>\n",
       "    </tr>\n",
       "    <tr>\n",
       "      <th>1</th>\n",
       "      <td>#10 Gummed Flap White Envelopes, 100/Box</td>\n",
       "      <td>41.300</td>\n",
       "    </tr>\n",
       "    <tr>\n",
       "      <th>2</th>\n",
       "      <td>#10 Self-Seal White Envelopes</td>\n",
       "      <td>108.682</td>\n",
       "    </tr>\n",
       "    <tr>\n",
       "      <th>3</th>\n",
       "      <td>#10 White Business Envelopes,4 1/8 x 9 1/2</td>\n",
       "      <td>488.904</td>\n",
       "    </tr>\n",
       "    <tr>\n",
       "      <th>4</th>\n",
       "      <td>#10- 4 1/8\" x 9 1/2\" Recycled Envelopes</td>\n",
       "      <td>286.672</td>\n",
       "    </tr>\n",
       "    <tr>\n",
       "      <th>...</th>\n",
       "      <td>...</td>\n",
       "      <td>...</td>\n",
       "    </tr>\n",
       "    <tr>\n",
       "      <th>1836</th>\n",
       "      <td>iKross Bluetooth Portable Keyboard + Cell Phon...</td>\n",
       "      <td>477.660</td>\n",
       "    </tr>\n",
       "    <tr>\n",
       "      <th>1837</th>\n",
       "      <td>iOttie HLCRIO102 Car Mount</td>\n",
       "      <td>215.892</td>\n",
       "    </tr>\n",
       "    <tr>\n",
       "      <th>1838</th>\n",
       "      <td>iOttie XL Car Mount</td>\n",
       "      <td>223.888</td>\n",
       "    </tr>\n",
       "    <tr>\n",
       "      <th>1839</th>\n",
       "      <td>invisibleSHIELD by ZAGG Smudge-Free Screen Pro...</td>\n",
       "      <td>442.554</td>\n",
       "    </tr>\n",
       "    <tr>\n",
       "      <th>1840</th>\n",
       "      <td>netTALK DUO VoIP Telephone Service</td>\n",
       "      <td>1112.788</td>\n",
       "    </tr>\n",
       "  </tbody>\n",
       "</table>\n",
       "<p>1841 rows × 2 columns</p>\n",
       "</div>"
      ],
      "text/plain": [
       "                                           Product Name     Sales\n",
       "0     \"While you Were Out\" Message Book, One Form pe...    25.228\n",
       "1              #10 Gummed Flap White Envelopes, 100/Box    41.300\n",
       "2                         #10 Self-Seal White Envelopes   108.682\n",
       "3            #10 White Business Envelopes,4 1/8 x 9 1/2   488.904\n",
       "4               #10- 4 1/8\" x 9 1/2\" Recycled Envelopes   286.672\n",
       "...                                                 ...       ...\n",
       "1836  iKross Bluetooth Portable Keyboard + Cell Phon...   477.660\n",
       "1837                         iOttie HLCRIO102 Car Mount   215.892\n",
       "1838                                iOttie XL Car Mount   223.888\n",
       "1839  invisibleSHIELD by ZAGG Smudge-Free Screen Pro...   442.554\n",
       "1840                 netTALK DUO VoIP Telephone Service  1112.788\n",
       "\n",
       "[1841 rows x 2 columns]"
      ]
     },
     "execution_count": 14,
     "metadata": {},
     "output_type": "execute_result"
    }
   ],
   "source": [
    "import matplotlib.pyplot as plt\n",
    "import seaborn as sns\n",
    "\n",
    "# Group by product and sum sales\n",
    "product_sales = df.groupby(\"Product Name\")[\"Sales\"].sum().reset_index()\n",
    "product_sales\n"
   ]
  },
  {
   "cell_type": "code",
   "execution_count": 15,
   "id": "147fa366-63c9-4570-98c0-63fbc7bc54d3",
   "metadata": {},
   "outputs": [
    {
     "data": {
      "text/html": [
       "<div>\n",
       "<style scoped>\n",
       "    .dataframe tbody tr th:only-of-type {\n",
       "        vertical-align: middle;\n",
       "    }\n",
       "\n",
       "    .dataframe tbody tr th {\n",
       "        vertical-align: top;\n",
       "    }\n",
       "\n",
       "    .dataframe thead th {\n",
       "        text-align: right;\n",
       "    }\n",
       "</style>\n",
       "<table border=\"1\" class=\"dataframe\">\n",
       "  <thead>\n",
       "    <tr style=\"text-align: right;\">\n",
       "      <th></th>\n",
       "      <th>Product Name</th>\n",
       "      <th>Sales</th>\n",
       "    </tr>\n",
       "  </thead>\n",
       "  <tbody>\n",
       "    <tr>\n",
       "      <th>403</th>\n",
       "      <td>Canon imageCLASS 2200 Advanced Copier</td>\n",
       "      <td>61599.824</td>\n",
       "    </tr>\n",
       "    <tr>\n",
       "      <th>648</th>\n",
       "      <td>Fellowes PB500 Electric Punch Plastic Comb Bin...</td>\n",
       "      <td>27453.384</td>\n",
       "    </tr>\n",
       "    <tr>\n",
       "      <th>443</th>\n",
       "      <td>Cisco TelePresence System EX90 Videoconferenci...</td>\n",
       "      <td>22638.480</td>\n",
       "    </tr>\n",
       "    <tr>\n",
       "      <th>784</th>\n",
       "      <td>HON 5400 Series Task Chairs for Big and Tall</td>\n",
       "      <td>21870.576</td>\n",
       "    </tr>\n",
       "    <tr>\n",
       "      <th>684</th>\n",
       "      <td>GBC DocuBind TL300 Electric Binding System</td>\n",
       "      <td>19823.479</td>\n",
       "    </tr>\n",
       "    <tr>\n",
       "      <th>686</th>\n",
       "      <td>GBC Ibimaster 500 Manual ProClick Binding System</td>\n",
       "      <td>19024.500</td>\n",
       "    </tr>\n",
       "    <tr>\n",
       "      <th>803</th>\n",
       "      <td>Hewlett Packard LaserJet 3310 Copier</td>\n",
       "      <td>18839.686</td>\n",
       "    </tr>\n",
       "    <tr>\n",
       "      <th>785</th>\n",
       "      <td>HP Designjet T520 Inkjet Large Format Printer ...</td>\n",
       "      <td>18374.895</td>\n",
       "    </tr>\n",
       "    <tr>\n",
       "      <th>681</th>\n",
       "      <td>GBC DocuBind P400 Electric Binding System</td>\n",
       "      <td>17965.068</td>\n",
       "    </tr>\n",
       "    <tr>\n",
       "      <th>811</th>\n",
       "      <td>High Speed Automatic Electric Letter Opener</td>\n",
       "      <td>17030.312</td>\n",
       "    </tr>\n",
       "  </tbody>\n",
       "</table>\n",
       "</div>"
      ],
      "text/plain": [
       "                                          Product Name      Sales\n",
       "403              Canon imageCLASS 2200 Advanced Copier  61599.824\n",
       "648  Fellowes PB500 Electric Punch Plastic Comb Bin...  27453.384\n",
       "443  Cisco TelePresence System EX90 Videoconferenci...  22638.480\n",
       "784       HON 5400 Series Task Chairs for Big and Tall  21870.576\n",
       "684         GBC DocuBind TL300 Electric Binding System  19823.479\n",
       "686   GBC Ibimaster 500 Manual ProClick Binding System  19024.500\n",
       "803               Hewlett Packard LaserJet 3310 Copier  18839.686\n",
       "785  HP Designjet T520 Inkjet Large Format Printer ...  18374.895\n",
       "681          GBC DocuBind P400 Electric Binding System  17965.068\n",
       "811        High Speed Automatic Electric Letter Opener  17030.312"
      ]
     },
     "execution_count": 15,
     "metadata": {},
     "output_type": "execute_result"
    }
   ],
   "source": [
    "# Sort and take top 10 products\n",
    "top_products = product_sales.sort_values(\"Sales\", ascending=False).head(10)\n",
    "top_products\n"
   ]
  },
  {
   "cell_type": "code",
   "execution_count": 25,
   "id": "3839bce1-a632-4f0f-8450-fc066ab5a4ae",
   "metadata": {},
   "outputs": [
    {
     "data": {
      "image/png": "[encoded data removed]",
      "text/plain": [
       "<Figure size 864x432 with 1 Axes>"
      ]
     },
     "metadata": {
      "needs_background": "light"
     },
     "output_type": "display_data"
    }
   ],
   "source": [
    "# Plot\n",
    "plt.figure(figsize=(12,6))\n",
    "sns.barplot(data=top_products, x=\"Sales\", y=\"Product Name\", palette=\"Set1\")\n",
    "plt.title(\"Top 10 Products by Sales\")\n",
    "plt.show()"
   ]
  },
  {
   "cell_type": "markdown",
   "id": "9ff785ae-44a0-4e59-8dac-4e20c6352f4e",
   "metadata": {},
   "source": [
    "# When do sales peak during the year?\n",
    "\n",
    "- look at sales by month"
   ]
  },
  {
   "cell_type": "code",
   "execution_count": 21,
   "id": "573166f6-a621-45e6-b822-3d8c12b35e9d",
   "metadata": {},
   "outputs": [
    {
     "data": {
      "image/png": "[encoded data removed]",
      "text/plain": [
       "<Figure size 720x360 with 1 Axes>"
      ]
     },
     "metadata": {
      "needs_background": "light"
     },
     "output_type": "display_data"
    }
   ],
   "source": [
    "# Extract month from order_date\n",
    "df[\"Month\"] = df[\"Order Date\"].dt.month\n",
    "\n",
    "# Group by month\n",
    "monthly_sales = df.groupby(\"Month\")[\"Sales\"].sum().reset_index()\n",
    "\n",
    "plt.figure(figsize=(10,5))\n",
    "sns.lineplot(data=monthly_sales, x=\"Month\", y=\"Sales\", marker=\"o\")\n",
    "plt.title(\"Monthly Sales Trend\")\n",
    "plt.xlabel(\"Month\")\n",
    "plt.ylabel(\"Total Sales\")\n",
    "plt.xticks(range(1,13))\n",
    "plt.show()\n"
   ]
  },
  {
   "cell_type": "code",
   "execution_count": 24,
   "id": "3b7653e9-d9d5-433b-8a4c-9fb87fee95fa",
   "metadata": {},
   "outputs": [
    {
     "data": {
      "image/png": "[encoded data removed]",
      "text/plain": [
       "<Figure size 720x360 with 1 Axes>"
      ]
     },
     "metadata": {
      "needs_background": "light"
     },
     "output_type": "display_data"
    }
   ],
   "source": [
    "import matplotlib.pyplot as plt\n",
    "import seaborn as sns\n",
    "\n",
    "# Extract month from \"Order Date\"\n",
    "df[\"Month\"] = df[\"Order Date\"].dt.month\n",
    "\n",
    "# Group by Month\n",
    "monthly_sales = df.groupby(\"Month\")[\"Sales\"].sum().reset_index()\n",
    "\n",
    "plt.figure(figsize=(10,5))\n",
    "sns.lineplot(data=monthly_sales, x=\"Month\", y=\"Sales\", marker=\"o\")\n",
    "plt.title(\"Monthly Sales Trend\")\n",
    "plt.xlabel(\"Month\")\n",
    "plt.ylabel(\"Total Sales\")\n",
    "plt.xticks(range(1,13))\n",
    "\n",
    "# Find the peak month\n",
    "peak = monthly_sales.loc[monthly_sales[\"Sales\"].idxmax()]\n",
    "\n",
    "# Annotate the peak\n",
    "plt.annotate(\n",
    "    f\"Peak: {peak['Sales']:.0f}\", \n",
    "    xy=(peak[\"Month\"], peak[\"Sales\"]), \n",
    "    xytext=(peak[\"Month\"], peak[\"Sales\"]+20000),\n",
    "    arrowprops=dict(facecolor=\"red\", shrink=0.05),\n",
    "    ha=\"center\", color=\"red\", fontsize=10, fontweight=\"bold\")\n",
    "\n",
    "plt.show()\n"
   ]
  },
  {
   "cell_type": "markdown",
   "id": "acb6c388-cec4-4f95-aa9f-9c5385ecb0c4",
   "metadata": {},
   "source": [
    "- looking at your Monthly Sales Trend plot:\n",
    "\n",
    "- Sales peak in November (Month 11) with the highest spike followed closely by December (Month 12)\n",
    "\n",
    "- There's also a smaller peak in September (Month 9)\n",
    "\n",
    "- the biggest sales season is November–December which likely corresponds to holiday shopping  and  end of year promotions"
   ]
  },
  {
   "cell_type": "markdown",
   "id": "cfb0c66e-b921-4f7c-8ee1-f347d74a4dfa",
   "metadata": {},
   "source": [
    "# Which categories or regions bring the most revenue\n",
    "\n",
    " Category vs Sales and Region vs Sales"
   ]
  },
  {
   "cell_type": "code",
   "execution_count": 29,
   "id": "c3f8be04-0f5d-41be-8944-a6a988b6f48d",
   "metadata": {},
   "outputs": [
    {
     "data": {
      "image/png": "[encoded data removed]",
      "text/plain": [
       "<Figure size 576x360 with 1 Axes>"
      ]
     },
     "metadata": {
      "needs_background": "light"
     },
     "output_type": "display_data"
    },
    {
     "data": {
      "image/png": "[encoded data removed]",
      "text/plain": [
       "<Figure size 576x360 with 1 Axes>"
      ]
     },
     "metadata": {
      "needs_background": "light"
     },
     "output_type": "display_data"
    }
   ],
   "source": [
    "# Category sales\n",
    "plt.figure(figsize=(8,5))\n",
    "sns.barplot(data=df, x=\"Category\", y=\"Sales\", estimator=sum, palette=\"Set2\")\n",
    "plt.title(\"Total Sales by Category\")\n",
    "plt.show()\n",
    "\n",
    "# Region sales\n",
    "plt.figure(figsize=(8,5))\n",
    "sns.barplot(data=df, x=\"Region\", y=\"Sales\", estimator=sum, palette=\"Set1\")\n",
    "plt.title(\"Total Sales by Region\")\n",
    "plt.show()\n"
   ]
  },
  {
   "cell_type": "markdown",
   "id": "fb1babad-72f2-4117-afa0-f9c63e23f0e8",
   "metadata": {},
   "source": [
    "- Technology and West had the highest  sales"
   ]
  },
  {
   "cell_type": "code",
   "execution_count": null,
   "id": "a7e3ab44-7152-4b7c-ac54-ddfbd088c3d6",
   "metadata": {},
   "outputs": [],
   "source": []
  },
  {
   "cell_type": "code",
   "execution_count": null,
   "id": "8fe81c55-3e08-479d-bf2e-50d5b275cfea",
   "metadata": {},
   "outputs": [],
   "source": []
  }
 ],
 "metadata": {
  "kernelspec": {
   "display_name": "Python (learn-env)",
   "language": "python",
   "name": "learn-env"
  },
  "language_info": {
   "codemirror_mode": {
    "name": "ipython",
    "version": 3
   },
   "file_extension": ".py",
   "mimetype": "text/x-python",
   "name": "python",
   "nbconvert_exporter": "python",
   "pygments_lexer": "ipython3",
   "version": "3.8.5"
  }
 },
 "nbformat": 4,
 "nbformat_minor": 5
}
